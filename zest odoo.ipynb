{
 "cells": [
  {
   "cell_type": "code",
   "execution_count": 7,
   "id": "f3f49bf2-635b-4ca7-8a24-d97ccd60ce28",
   "metadata": {},
   "outputs": [
    {
     "name": "stdout",
     "output_type": "stream",
     "text": [
      "hello\n",
      "Requirement already satisfied: flask in c:\\users\\riyanka jaiswal\\appdata\\local\\programs\\python\\python312\\lib\\site-packages (3.1.0)Note: you may need to restart the kernel to use updated packages.\n"
     ]
    },
    {
     "name": "stderr",
     "output_type": "stream",
     "text": [
      "\n",
      "[notice] A new release of pip is available: 25.0.1 -> 25.1.1\n",
      "[notice] To update, run: python.exe -m pip install --upgrade pip\n"
     ]
    },
    {
     "name": "stdout",
     "output_type": "stream",
     "text": [
      "\n",
      "Requirement already satisfied: flask-cors in c:\\users\\riyanka jaiswal\\appdata\\local\\programs\\python\\python312\\lib\\site-packages (6.0.1)\n",
      "Requirement already satisfied: flask-mysql in c:\\users\\riyanka jaiswal\\appdata\\local\\programs\\python\\python312\\lib\\site-packages (1.6.0)\n",
      "Requirement already satisfied: Werkzeug>=3.1 in c:\\users\\riyanka jaiswal\\appdata\\local\\programs\\python\\python312\\lib\\site-packages (from flask) (3.1.2)\n",
      "Requirement already satisfied: Jinja2>=3.1.2 in c:\\users\\riyanka jaiswal\\appdata\\local\\programs\\python\\python312\\lib\\site-packages (from flask) (3.1.4)\n",
      "Requirement already satisfied: itsdangerous>=2.2 in c:\\users\\riyanka jaiswal\\appdata\\local\\programs\\python\\python312\\lib\\site-packages (from flask) (2.2.0)\n",
      "Requirement already satisfied: click>=8.1.3 in c:\\users\\riyanka jaiswal\\appdata\\local\\programs\\python\\python312\\lib\\site-packages (from flask) (8.1.7)\n",
      "Requirement already satisfied: blinker>=1.9 in c:\\users\\riyanka jaiswal\\appdata\\local\\programs\\python\\python312\\lib\\site-packages (from flask) (1.9.0)\n",
      "Requirement already satisfied: PyMySQL in c:\\users\\riyanka jaiswal\\appdata\\local\\programs\\python\\python312\\lib\\site-packages (from flask-mysql) (1.1.1)\n",
      "Requirement already satisfied: colorama in c:\\users\\riyanka jaiswal\\appdata\\local\\programs\\python\\python312\\lib\\site-packages (from click>=8.1.3->flask) (0.4.6)\n",
      "Requirement already satisfied: MarkupSafe>=2.0 in c:\\users\\riyanka jaiswal\\appdata\\local\\programs\\python\\python312\\lib\\site-packages (from Jinja2>=3.1.2->flask) (2.1.5)\n"
     ]
    }
   ],
   "source": [
    "import pip\n",
    "print(\"hello\")\n",
    "%pip install flask flask-cors flask-mysql\n",
    "\n",
    "from flask import Flask, jsonify, request\n",
    "from flask_cors import CORS\n",
    "from flaskext.mysql import MySQL\n",
    "\n",
    "app = Flask(__name__)\n",
    "CORS(app)\n",
    "\n",
    "# MySQL Configuration\n",
    "app.config['MYSQL_DATABASE_HOST'] = 'localhost'\n",
    "app.config['MYSQL_DATABASE_USER'] = 'root'\n",
    "app.config['MYSQL_DATABASE_PASSWORD'] = 'zest'  # replace with your password\n",
    "app.config['MYSQL_DATABASE_DB'] = 'test_db'"
   ]
  },
  {
   "cell_type": "code",
   "execution_count": null,
   "id": "c15fbcef-2e32-4046-8a64-0cb21d2d3742",
   "metadata": {},
   "outputs": [],
   "source": []
  }
 ],
 "metadata": {
  "kernelspec": {
   "display_name": "Python 3 (ipykernel)",
   "language": "python",
   "name": "python3"
  },
  "language_info": {
   "codemirror_mode": {
    "name": "ipython",
    "version": 3
   },
   "file_extension": ".py",
   "mimetype": "text/x-python",
   "name": "python",
   "nbconvert_exporter": "python",
   "pygments_lexer": "ipython3",
   "version": "3.12.7"
  },
  "widgets": {
   "application/vnd.jupyter.widget-state+json": {
    "state": {},
    "version_major": 2,
    "version_minor": 0
   }
  }
 },
 "nbformat": 4,
 "nbformat_minor": 5
}
